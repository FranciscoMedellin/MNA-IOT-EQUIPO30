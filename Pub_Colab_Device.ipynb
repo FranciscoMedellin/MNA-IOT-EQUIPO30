{
 "cells": [
  {
   "cell_type": "code",
   "execution_count": null,
   "metadata": {},
   "outputs": [],
   "source": [
    "%pip install paho-mqtt"
   ]
  },
  {
   "cell_type": "code",
   "execution_count": null,
   "metadata": {},
   "outputs": [],
   "source": [
    "import time\n",
    "import os\n",
    "import logging as lg\n",
    "import random\n",
    "import paho.mqtt.client as mqttClient"
   ]
  },
  {
   "cell_type": "code",
   "execution_count": null,
   "metadata": {},
   "outputs": [],
   "source": [
    "Connected = False\n",
    "broker_address= \"broker.hivemq.com\" #\"8.tcp.ngrok.io\" # \"broker.hivemq.com\"  #broker público\n",
    "port= 1883 #12105 #1883  # puerto por defecto\n",
    "\n",
    "tag_broker= \"MNA/IoT/2023/MQTT/Equipo30/\"\n",
    "device = os.environ.get(\"DEVICE\") #\"device1\"\n",
    "tag1 = tag_broker + device + \"/Temperatura\" #\"MNA/IoT/Equipo30/device1/Temperatura\"\n",
    "tag2 = tag_broker + device + \"/Humedad\" #\"MNA/IoT/Equipo30/device1/Humedad\"\n",
    "\n",
    "def get_temp():\n",
    "    return random.randint(0, 45)\n",
    "\n",
    "def get_hum():\n",
    "    return random.randint(8, 99)\n",
    "\n",
    "def on_connect(client,userdata,flags,rc):\n",
    "    \"\"\"Función que establece la conexión\n",
    "    \"\"\"\n",
    "    if rc==0:\n",
    "        lg.info(\"Conectado al broker\")\n",
    "        global Connected\n",
    "        Connected = True\n",
    "    else:\n",
    "        lg.info(\"Falla en la conexión al broker\")\n",
    "    return\n",
    "\n",
    "client = mqttClient.Client(\"publicador\")\n",
    "client.on_connect = on_connect\n",
    "client.connect(broker_address,port)\n",
    "client.loop_start() #inicializar\n",
    "\n",
    "while Connected != True:\n",
    "    time.sleep(0.2)\n",
    "    try:\n",
    "        try:\n",
    "            while  True:\n",
    "                lg.info(\"DEVICE NAME: \",device)\n",
    "                val1 = get_temp()\n",
    "                val2 = get_hum() \n",
    "                lg.info(tag1,val1,\"\\n\",tag2,val2,\"\\n\")\n",
    "                client.publish(tag1,val1, qos=0)\n",
    "                client.publish(tag2,val2, qos=0)\n",
    "                lg.info(\"data publicada\")\n",
    "                time.sleep(2)\n",
    "        except:\n",
    "            lg.info(\"Envio de datos suspendido\")\n",
    "            client.disconnect()\n",
    "            client.loop_stop()\n",
    "    except KeyboardInterrupt:\n",
    "        lg.info(\"Envío de datos suspendido por el usuario\")\n",
    "        client.disconnect()\n",
    "        client.loop_stop()"
   ]
  }
 ],
 "metadata": {
  "language_info": {
   "name": "python"
  },
  "orig_nbformat": 4
 },
 "nbformat": 4,
 "nbformat_minor": 2
}
