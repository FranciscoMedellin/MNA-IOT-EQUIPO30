{
  "cells": [
    {
      "cell_type": "markdown",
      "metadata": {
        "id": "view-in-github",
        "colab_type": "text"
      },
      "source": [
        "<a href=\"https://colab.research.google.com/github/FranciscoMedellin/MNA-IOT-EQUIPO30/blob/main/Pub_Colab_Device.ipynb\" target=\"_parent\"><img src=\"https://colab.research.google.com/assets/colab-badge.svg\" alt=\"Open In Colab\"/></a>"
      ]
    },
    {
      "cell_type": "code",
      "execution_count": null,
      "metadata": {
        "id": "Q2NEDNwSP4JB"
      },
      "outputs": [],
      "source": [
        "%pip install paho-mqtt"
      ]
    },
    {
      "cell_type": "code",
      "execution_count": null,
      "metadata": {
        "id": "-Dj-jm6gP4JD"
      },
      "outputs": [],
      "source": [
        "import time\n",
        "import os\n",
        "import logging as lg\n",
        "import random\n",
        "import paho.mqtt.client as mqttClient"
      ]
    },
    {
      "cell_type": "code",
      "execution_count": null,
      "metadata": {
        "id": "9TBEX6InP4JD"
      },
      "outputs": [],
      "source": [
        "Connected = False\n",
        "broker_address= \"broker.hivemq.com\" #\"8.tcp.ngrok.io\" # \"broker.hivemq.com\"  #broker público\n",
        "port= 1883 #12105 #1883  # puerto por defecto\n",
        "\n",
        "tag_broker= \"MNA/IoT/2023/MQTT/Equipo30/\"\n",
        "device = \"device2\" #os.environ.get(\"DEVICE\") #\"device1\"\n",
        "tag1 = tag_broker + device + \"/Temperatura\" #\"MNA/IoT/Equipo30/device1/Temperatura\"\n",
        "tag2 = tag_broker + device + \"/Humedad\" #\"MNA/IoT/Equipo30/device1/Humedad\"\n",
        "\n",
        "def get_temp():\n",
        "    return random.randint(0, 45)\n",
        "\n",
        "def get_hum():\n",
        "    return random.randint(8, 99)\n",
        "\n",
        "def on_connect(client,userdata,flags,rc):\n",
        "    \"\"\"Función que establece la conexión\n",
        "    \"\"\"\n",
        "    if rc==0:\n",
        "        print(\"Conectado al broker\")\n",
        "        global Connected\n",
        "        Connected = True\n",
        "    else:\n",
        "        print(\"Falla en la conexión al broker\")\n",
        "    return\n",
        "\n",
        "client = mqttClient.Client(\"publicador\")\n",
        "client.on_connect = on_connect\n",
        "client.connect(broker_address,port)\n",
        "client.loop_start() #inicializar\n",
        "\n",
        "while Connected != True:\n",
        "    time.sleep(0.2)\n",
        "    try:\n",
        "        try:\n",
        "            while  True:\n",
        "                print(\"DEVICE NAME: \",device)\n",
        "                val1 = get_temp()\n",
        "                val2 = get_hum()\n",
        "                print(tag1,val1,\"\\n\",tag2,val2,\"\\n\")\n",
        "                client.publish(tag1,val1, qos=0)\n",
        "                client.publish(tag2,val2, qos=0)\n",
        "                print(\"data publicada\")\n",
        "                time.sleep(2)\n",
        "        except:\n",
        "            print(\"Envio de datos suspendido\")\n",
        "            client.disconnect()\n",
        "            client.loop_stop()\n",
        "    except KeyboardInterrupt:\n",
        "        print(\"Envío de datos suspendido por el usuario\")\n",
        "        client.disconnect()\n",
        "        client.loop_stop()"
      ]
    }
  ],
  "metadata": {
    "language_info": {
      "name": "python"
    },
    "orig_nbformat": 4,
    "colab": {
      "provenance": [],
      "include_colab_link": true
    },
    "kernelspec": {
      "name": "python3",
      "display_name": "Python 3"
    }
  },
  "nbformat": 4,
  "nbformat_minor": 0
}