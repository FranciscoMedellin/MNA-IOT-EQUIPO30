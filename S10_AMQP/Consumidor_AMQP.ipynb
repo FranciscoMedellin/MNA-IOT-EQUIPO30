{
 "cells": [
  {
   "cell_type": "code",
   "execution_count": 6,
   "metadata": {},
   "outputs": [
    {
     "name": "stdout",
     "output_type": "stream",
     "text": [
      "mensaje recibido: Primer mensaje de prueba\n",
      "mensaje recibido: AMQP es entretenido\n",
      "mensaje recibido: Ya casi se acaba el trimestre\n",
      "mensaje recibido: Estudien para el examen final\n",
      "mensaje recibido: preguntas?\n",
      "mensaje recibido: prueba de fuego\n",
      "mensaje recibido: estudien para el examen\n",
      "mensaje recibido: todo viene en las lecturas\n",
      "mensaje recibido: MNA\n",
      "mensaje recibido: vuelve el charro negro\n",
      "Recepción de datos interrumpida por el usuario\n"
     ]
    }
   ],
   "source": [
    "import pika,os\n",
    "\n",
    "def consumidor():\n",
    "    url=os.environ.get('CLOUDAMQP', 'amqps://')\n",
    "    params=pika.URLParameters(url)\n",
    "    connect=pika.BlockingConnection(params)\n",
    "    channel=connect.channel()\n",
    "\n",
    "    #declaramos la cola que vamos a consumir\n",
    "    cola=\"ejemplo_mna\"\n",
    "    channel.queue_declare(queue=cola)\n",
    "    \n",
    "    def callback(ch, method, properties, body):\n",
    "        print(\"mensaje recibido: {}\".format(body.decode()))\n",
    "    \n",
    "    channel.basic_consume(queue=cola,on_message_callback=callback)\n",
    "    channel.start_consuming()\n",
    "    \n",
    "try:\n",
    "    consumidor()\n",
    "except KeyboardInterrupt:\n",
    "    print(\"Recepción de datos interrumpida por el usuario\")\n",
    "\n",
    "    "
   ]
  },
  {
   "cell_type": "code",
   "execution_count": null,
   "metadata": {},
   "outputs": [],
   "source": [
    "docker-compose.yml\n",
    "\n",
    "version: '3'\n",
    "services:\n",
    "  rabbitmq:\n",
    "    container_name: rabbitmq\n",
    "    image: rabbitmq:3\n",
    "    ports:\n",
    "      - '5672:5672'"
   ]
  },
  {
   "cell_type": "code",
   "execution_count": null,
   "metadata": {},
   "outputs": [],
   "source": [
    "docker-compose up -d"
   ]
  },
  {
   "cell_type": "code",
   "execution_count": null,
   "metadata": {},
   "outputs": [],
   "source": []
  },
  {
   "cell_type": "code",
   "execution_count": null,
   "metadata": {},
   "outputs": [],
   "source": []
  },
  {
   "cell_type": "code",
   "execution_count": null,
   "metadata": {},
   "outputs": [],
   "source": []
  }
 ],
 "metadata": {
  "kernelspec": {
   "display_name": "Python 3",
   "language": "python",
   "name": "python3"
  },
  "language_info": {
   "codemirror_mode": {
    "name": "ipython",
    "version": 3
   },
   "file_extension": ".py",
   "mimetype": "text/x-python",
   "name": "python",
   "nbconvert_exporter": "python",
   "pygments_lexer": "ipython3",
   "version": "3.7.1"
  },
  "vscode": {
   "interpreter": {
    "hash": "76080cc002e9d85606df616fc7234b9ca5f3ef72eb9802833df3b0586be1af89"
   }
  }
 },
 "nbformat": 4,
 "nbformat_minor": 2
}
