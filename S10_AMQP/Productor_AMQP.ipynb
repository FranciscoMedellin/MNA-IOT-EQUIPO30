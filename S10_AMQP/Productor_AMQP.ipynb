{
 "cells": [
  {
   "cell_type": "code",
   "execution_count": null,
   "metadata": {},
   "outputs": [],
   "source": [
    "pip install pika"
   ]
  },
  {
   "cell_type": "markdown",
   "metadata": {},
   "source": [
    "# Ejemplo de AMQP usando un broker público"
   ]
  },
  {
   "cell_type": "code",
   "execution_count": 6,
   "metadata": {},
   "outputs": [
    {
     "name": "stdout",
     "output_type": "stream",
     "text": [
      "Escribe un mensaje: vuelve el charro negro\n",
      "Enviando:  vuelve el charro negro\n",
      "Escribe un mensaje: .\n"
     ]
    }
   ],
   "source": [
    "import pika\n",
    "import os\n",
    "#Productor AMQP\n",
    "url=os.environ.get('CLOUDAMQP', 'amqps:// ')\n",
    "params=pika.URLParameters(url)\n",
    "connect=pika.BlockingConnection(params)\n",
    "channel=connect.channel()\n",
    "\n",
    "#cramos una cola o queue\n",
    "cola=\"ejemplo_mna\"\n",
    "channel.queue_declare(queue=cola)\n",
    "\n",
    "msg=input(\"Escribe un mensaje: \")\n",
    "\n",
    "try:\n",
    "    while msg!=\".\":\n",
    "        channel.basic_publish(exchange='',routing_key=cola,body=msg)\n",
    "        print(\"Enviando: \",msg)\n",
    "        msg=input(\"Escribe un mensaje: \")\n",
    "except KeyboardInterrupt: #cuando presionas Ctrl+C\n",
    "    print(\"Envío de mensajes suspendido por el usuario\")\n",
    "    connect.close()\n",
    "\n"
   ]
  },
  {
   "cell_type": "code",
   "execution_count": null,
   "metadata": {},
   "outputs": [],
   "source": []
  },
  {
   "cell_type": "code",
   "execution_count": null,
   "metadata": {},
   "outputs": [],
   "source": []
  },
  {
   "cell_type": "code",
   "execution_count": null,
   "metadata": {},
   "outputs": [],
   "source": []
  }
 ],
 "metadata": {
  "kernelspec": {
   "display_name": "Python 3",
   "language": "python",
   "name": "python3"
  },
  "language_info": {
   "codemirror_mode": {
    "name": "ipython",
    "version": 3
   },
   "file_extension": ".py",
   "mimetype": "text/x-python",
   "name": "python",
   "nbconvert_exporter": "python",
   "pygments_lexer": "ipython3",
   "version": "3.7.1"
  },
  "vscode": {
   "interpreter": {
    "hash": "76080cc002e9d85606df616fc7234b9ca5f3ef72eb9802833df3b0586be1af89"
   }
  }
 },
 "nbformat": 4,
 "nbformat_minor": 2
}
