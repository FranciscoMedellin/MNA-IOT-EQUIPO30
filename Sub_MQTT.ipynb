{
  "cells": [
    {
      "cell_type": "markdown",
      "metadata": {
        "id": "view-in-github",
        "colab_type": "text"
      },
      "source": [
        "<a href=\"https://colab.research.google.com/github/FranciscoMedellin/MNA-IOT-EQUIPO30/blob/main/Sub_MQTT.ipynb\" target=\"_parent\"><img src=\"https://colab.research.google.com/assets/colab-badge.svg\" alt=\"Open In Colab\"/></a>"
      ]
    },
    {
      "cell_type": "code",
      "source": [
        "%pip install paho-mqtt"
      ],
      "metadata": {
        "id": "WwntP8qXZbtK",
        "outputId": "f49cb74f-255e-4650-98ed-483a8c6fb6ee",
        "colab": {
          "base_uri": "https://localhost:8080/"
        }
      },
      "execution_count": 1,
      "outputs": [
        {
          "output_type": "stream",
          "name": "stdout",
          "text": [
            "Looking in indexes: https://pypi.org/simple, https://us-python.pkg.dev/colab-wheels/public/simple/\n",
            "Collecting paho-mqtt\n",
            "  Downloading paho-mqtt-1.6.1.tar.gz (99 kB)\n",
            "\u001b[2K     \u001b[90m━━━━━━━━━━━━━━━━━━━━━━━━━━━━━━━━━━━━━━━━\u001b[0m \u001b[32m99.4/99.4 kB\u001b[0m \u001b[31m5.3 MB/s\u001b[0m eta \u001b[36m0:00:00\u001b[0m\n",
            "\u001b[?25h  Preparing metadata (setup.py) ... \u001b[?25l\u001b[?25hdone\n",
            "Building wheels for collected packages: paho-mqtt\n",
            "  Building wheel for paho-mqtt (setup.py) ... \u001b[?25l\u001b[?25hdone\n",
            "  Created wheel for paho-mqtt: filename=paho_mqtt-1.6.1-py3-none-any.whl size=62118 sha256=c8d3608d666007dbde08e4eff5f364853cf0d1c83dff7ea752e18fb38fd0c943\n",
            "  Stored in directory: /root/.cache/pip/wheels/8b/bb/0c/79444d1dee20324d442856979b5b519b48828b0bd3d05df84a\n",
            "Successfully built paho-mqtt\n",
            "Installing collected packages: paho-mqtt\n",
            "Successfully installed paho-mqtt-1.6.1\n"
          ]
        }
      ]
    },
    {
      "cell_type": "code",
      "execution_count": 2,
      "metadata": {
        "id": "bKdx-yV1ZXiU"
      },
      "outputs": [],
      "source": [
        "import paho.mqtt.client as mqttClient\n",
        "import time"
      ]
    },
    {
      "cell_type": "code",
      "execution_count": 3,
      "metadata": {
        "id": "FDPzpK01ZXiX",
        "outputId": "c3c2bee5-4963-4c13-83ef-ec11746d7710",
        "colab": {
          "base_uri": "https://localhost:8080/"
        }
      },
      "outputs": [
        {
          "output_type": "stream",
          "name": "stdout",
          "text": [
            "Conectado al broker\n",
            "Conectado al broker\n",
            "Conectado al broker\n",
            "Conectado al broker\n",
            "Recepción detenida por el usuario\n"
          ]
        }
      ],
      "source": [
        "def on_connect(client,userdata,flags,rc):\n",
        "    \"\"\"Función que establece la conexión\n",
        "\n",
        "    \"\"\"\n",
        "    if rc==0:\n",
        "        print(\"Conectado al broker\")\n",
        "        global Connected\n",
        "        Connected = True\n",
        "    else:\n",
        "        print(\"Falla en la conexión al broker\")\n",
        "    return\n",
        "\n",
        "def on_message(client,userdata,message):\n",
        "    \"\"\"función que recibe mensajes\n",
        "\n",
        "    \"\"\"\n",
        "    print(\"mensaje {}:{}\".format(message.topic,message.payload))\n",
        "    print(message)\n",
        "    print()\n",
        "    return\n",
        "\n",
        "Connected = False\n",
        "broker_address= \"broker.hivemq.com\" #\"8.tcp.ngrok.io\" # \"broker.hivemq.com\"  #broker público\n",
        "port= 1883 #12105 #1883  # puerto por defecto\n",
        "#tag= \"MNA/IoT/Equipo30/device1\" #\"/MNA/IoT/#\"  # el numeral (#) sirve para indicar que queremos ver todo lo que está asociado a IoT\n",
        "tag = \"MNA/IoT/2023/MQTT/Equipo30/#\"\n",
        "tag1 = \"MNA/IoT/2023/MQTT/Equipo30/device1/#\"\n",
        "tag3 = \"MNA/IoT/2023/MQTT/Equipo30/device3/#\"\n",
        "tag4 = \"MNA/IoT/2023/MQTT/Equipo30/device4/#\"\n",
        "\n",
        "\n",
        "tags = [tag1,tag3,tag4]\n",
        "client = mqttClient.Client(\"suscriptor\")\n",
        "client.on_connect = on_connect\n",
        "client.on_message = on_message\n",
        "client.connect(broker_address,port)\n",
        "client.loop_start() #inicializar\n",
        "\n",
        "while Connected != True:\n",
        "    time.sleep(0.1)\n",
        "    for tag in tags:\n",
        "      client.subscribe(tag)\n",
        "\n",
        "    try:\n",
        "        while True:\n",
        "            time.sleep(0.1)\n",
        "    except KeyboardInterrupt:\n",
        "        print(\"Recepción detenida por el usuario\")\n",
        "        client.disconnect()\n",
        "        client.loop_stop()"
      ]
    },
    {
      "cell_type": "code",
      "execution_count": null,
      "metadata": {
        "id": "I-Kg9jxcZXii"
      },
      "outputs": [],
      "source": []
    },
    {
      "cell_type": "code",
      "execution_count": null,
      "metadata": {
        "id": "JoUl999kZXii"
      },
      "outputs": [],
      "source": []
    },
    {
      "cell_type": "code",
      "execution_count": null,
      "metadata": {
        "id": "296hiGg2ZXij"
      },
      "outputs": [],
      "source": []
    },
    {
      "cell_type": "code",
      "execution_count": null,
      "metadata": {
        "id": "wqRbIojtZXij"
      },
      "outputs": [],
      "source": []
    },
    {
      "cell_type": "code",
      "execution_count": null,
      "metadata": {
        "id": "3VtCYSnCZXij"
      },
      "outputs": [],
      "source": []
    },
    {
      "cell_type": "code",
      "execution_count": null,
      "metadata": {
        "id": "c8sCRsx9ZXij"
      },
      "outputs": [],
      "source": []
    },
    {
      "cell_type": "code",
      "execution_count": null,
      "metadata": {
        "id": "Q5-CfxEAZXik"
      },
      "outputs": [],
      "source": []
    }
  ],
  "metadata": {
    "kernelspec": {
      "display_name": "Python 3",
      "language": "python",
      "name": "python3"
    },
    "language_info": {
      "codemirror_mode": {
        "name": "ipython",
        "version": 3
      },
      "file_extension": ".py",
      "mimetype": "text/x-python",
      "name": "python",
      "nbconvert_exporter": "python",
      "pygments_lexer": "ipython3",
      "version": "3.8.8"
    },
    "colab": {
      "provenance": [],
      "include_colab_link": true
    }
  },
  "nbformat": 4,
  "nbformat_minor": 0
}